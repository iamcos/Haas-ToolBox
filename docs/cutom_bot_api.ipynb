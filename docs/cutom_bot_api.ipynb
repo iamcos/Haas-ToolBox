{
 "cells": [
  {
   "cell_type": "code",
   "execution_count": 1,
   "metadata": {},
   "outputs": [],
   "source": [
    "from haasomeapi.HaasomeClient import HaasomeClient"
   ]
  },
  {
   "cell_type": "code",
   "execution_count": 23,
   "metadata": {},
   "outputs": [
    {
     "name": "stdout",
     "output_type": "stream",
     "text": [
      "{'errorCode': <EnumErrorCode.CONNECTION_FAILED: 9002>, 'errorMessage': 'Failed To Connect To The Haasonline Trade Server', 'result': {}}\n"
     ]
    }
   ],
   "source": [
    "client: HaasomeClient = HaasomeClient(\"10.0.0.1:8095\", \"E`LcuU8$r/fJr+du\")\n",
    "response = client.test_credentials()\n",
    "print(vars(response))"
   ]
  }
 ],
 "metadata": {
  "interpreter": {
   "hash": "6847c98a8f86b01c6a19c518cd2f366693b80566b266804d5ca763cbb223f52b"
  },
  "kernelspec": {
   "display_name": "Python 3.10.4 64-bit",
   "language": "python",
   "name": "python3"
  },
  "language_info": {
   "codemirror_mode": {
    "name": "ipython",
    "version": 3
   },
   "file_extension": ".py",
   "mimetype": "text/x-python",
   "name": "python",
   "nbconvert_exporter": "python",
   "pygments_lexer": "ipython3",
   "version": "3.10.4"
  },
  "orig_nbformat": 4
 },
 "nbformat": 4,
 "nbformat_minor": 2
}
